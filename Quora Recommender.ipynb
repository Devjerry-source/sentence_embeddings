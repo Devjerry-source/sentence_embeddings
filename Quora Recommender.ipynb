{
 "cells": [
  {
   "cell_type": "markdown",
   "metadata": {},
   "source": [
    "## An example recommendation system \n",
    "This notebook shows how you can create a simple recommender to identify similar questions in the Quora dataset. You can use this templace to create a recommender system which identifies similar customer support queries and then provides a saved reply which is associated with that question "
   ]
  },
  {
   "cell_type": "markdown",
   "metadata": {},
   "source": [
    "### Import the libraries"
   ]
  },
  {
   "cell_type": "code",
   "execution_count": 1,
   "metadata": {},
   "outputs": [],
   "source": [
    "import tensorflow as tf\n",
    "import tensorflow_hub as hub\n",
    "import matplotlib.pyplot as plt\n",
    "import numpy as np\n",
    "import pandas as pd\n",
    "import json\n",
    "import random\n",
    "import argparse\n",
    "from sklearn.decomposition import PCA"
   ]
  },
  {
   "cell_type": "markdown",
   "metadata": {},
   "source": [
    "### Import the Universal Sentence Encoder's TF Hub module"
   ]
  },
  {
   "cell_type": "code",
   "execution_count": null,
   "metadata": {},
   "outputs": [],
   "source": [
    "module_url = \"https://tfhub.dev/google/universal-sentence-encoder-large/3\"\n",
    "embed = hub.Module(module_url)"
   ]
  },
  {
   "cell_type": "markdown",
   "metadata": {},
   "source": [
    "### Set the relative paths"
   ]
  },
  {
   "cell_type": "code",
   "execution_count": 3,
   "metadata": {},
   "outputs": [],
   "source": [
    "use_path = \"dataset/\"\n",
    "quora_file = \"quora_sample_clusters.csv\""
   ]
  },
  {
   "cell_type": "markdown",
   "metadata": {},
   "source": [
    "### Create placeholder for the cosine similarity"
   ]
  },
  {
   "cell_type": "code",
   "execution_count": 4,
   "metadata": {},
   "outputs": [],
   "source": [
    "# Use a TF placeholder\n",
    "sts_input1 = tf.placeholder(tf.string, shape=(None))\n",
    "sts_input2 = tf.placeholder(tf.string, shape=(None))\n",
    "\n",
    "# For evaluation we use exactly normalized rather than\n",
    "# approximately normalized.\n",
    "sts_encode1 = tf.nn.l2_normalize(embed(sts_input1), axis=1)\n",
    "sts_encode2 = tf.nn.l2_normalize(embed(sts_input2), axis=1)\n",
    "\n",
    "# Get cosine similarity for comparison\n",
    "cosine_similarities = tf.reduce_sum(tf.multiply(sts_encode1, sts_encode2), axis=1)\n",
    "clip_cosine_similarities = tf.clip_by_value(cosine_similarities, 0.0, 1.0)\n",
    "sim_scores = 1.0 - tf.divide(tf.acos(clip_cosine_similarities), 3.14)"
   ]
  },
  {
   "cell_type": "markdown",
   "metadata": {},
   "source": [
    "### Get the Quora dataset"
   ]
  },
  {
   "cell_type": "code",
   "execution_count": 61,
   "metadata": {},
   "outputs": [
    {
     "data": {
      "text/html": [
       "<div>\n",
       "<style scoped>\n",
       "    .dataframe tbody tr th:only-of-type {\n",
       "        vertical-align: middle;\n",
       "    }\n",
       "\n",
       "    .dataframe tbody tr th {\n",
       "        vertical-align: top;\n",
       "    }\n",
       "\n",
       "    .dataframe thead th {\n",
       "        text-align: right;\n",
       "    }\n",
       "</style>\n",
       "<table border=\"1\" class=\"dataframe\">\n",
       "  <thead>\n",
       "    <tr style=\"text-align: right;\">\n",
       "      <th></th>\n",
       "      <th>query</th>\n",
       "      <th>answer_group</th>\n",
       "    </tr>\n",
       "  </thead>\n",
       "  <tbody>\n",
       "    <tr>\n",
       "      <th>0</th>\n",
       "      <td>I forgot my username and have no access to my ...</td>\n",
       "      <td>Missing Password</td>\n",
       "    </tr>\n",
       "    <tr>\n",
       "      <th>1</th>\n",
       "      <td>I made an account on my phone but I forgot the...</td>\n",
       "      <td>Missing Password</td>\n",
       "    </tr>\n",
       "    <tr>\n",
       "      <th>2</th>\n",
       "      <td>What are the steps for a password reset?</td>\n",
       "      <td>Missing Password</td>\n",
       "    </tr>\n",
       "    <tr>\n",
       "      <th>3</th>\n",
       "      <td>How do I recover my password when I'm not rece...</td>\n",
       "      <td>Missing Password</td>\n",
       "    </tr>\n",
       "    <tr>\n",
       "      <th>4</th>\n",
       "      <td>If the \"retrieve password\" process for my acco...</td>\n",
       "      <td>Missing Password</td>\n",
       "    </tr>\n",
       "    <tr>\n",
       "      <th>5</th>\n",
       "      <td>Is there a way to insert multiple images?</td>\n",
       "      <td>Profile Image</td>\n",
       "    </tr>\n",
       "    <tr>\n",
       "      <th>6</th>\n",
       "      <td>How do I add an image?</td>\n",
       "      <td>Profile Image</td>\n",
       "    </tr>\n",
       "    <tr>\n",
       "      <th>7</th>\n",
       "      <td>Can I change my profile image?</td>\n",
       "      <td>Profile Image</td>\n",
       "    </tr>\n",
       "    <tr>\n",
       "      <th>8</th>\n",
       "      <td>Can I upload a image for users?</td>\n",
       "      <td>Profile Image</td>\n",
       "    </tr>\n",
       "    <tr>\n",
       "      <th>9</th>\n",
       "      <td>Whats the max size for a profile image?</td>\n",
       "      <td>Profile Image</td>\n",
       "    </tr>\n",
       "    <tr>\n",
       "      <th>10</th>\n",
       "      <td>How can I signup online without a credit card?</td>\n",
       "      <td>Credit Card Setup</td>\n",
       "    </tr>\n",
       "    <tr>\n",
       "      <th>11</th>\n",
       "      <td>Can I signup without a credit card?</td>\n",
       "      <td>Credit Card Setup</td>\n",
       "    </tr>\n",
       "    <tr>\n",
       "      <th>12</th>\n",
       "      <td>Do I need a credit card to start a trial?</td>\n",
       "      <td>Credit Card Setup</td>\n",
       "    </tr>\n",
       "    <tr>\n",
       "      <th>13</th>\n",
       "      <td>Do I need a credit cart to setup an account?</td>\n",
       "      <td>Credit Card Setup</td>\n",
       "    </tr>\n",
       "    <tr>\n",
       "      <th>14</th>\n",
       "      <td>Do you have a free version?</td>\n",
       "      <td>Credit Card Setup</td>\n",
       "    </tr>\n",
       "    <tr>\n",
       "      <th>15</th>\n",
       "      <td>What are some good photo editing apps?</td>\n",
       "      <td>Video Steps</td>\n",
       "    </tr>\n",
       "    <tr>\n",
       "      <th>16</th>\n",
       "      <td>Which is best free video editing software?</td>\n",
       "      <td>Video Steps</td>\n",
       "    </tr>\n",
       "    <tr>\n",
       "      <th>17</th>\n",
       "      <td>How can I edits videos?</td>\n",
       "      <td>Video Steps</td>\n",
       "    </tr>\n",
       "    <tr>\n",
       "      <th>18</th>\n",
       "      <td>Can I update my videos before uploading</td>\n",
       "      <td>Video Steps</td>\n",
       "    </tr>\n",
       "    <tr>\n",
       "      <th>19</th>\n",
       "      <td>Are there online tools I can use to share my v...</td>\n",
       "      <td>Video Steps</td>\n",
       "    </tr>\n",
       "    <tr>\n",
       "      <th>20</th>\n",
       "      <td>How can I upload Folders which contains daily ...</td>\n",
       "      <td>Python Upload Steps</td>\n",
       "    </tr>\n",
       "    <tr>\n",
       "      <th>21</th>\n",
       "      <td>Can I upload data with a python script?</td>\n",
       "      <td>Python Upload Steps</td>\n",
       "    </tr>\n",
       "    <tr>\n",
       "      <th>22</th>\n",
       "      <td>How do I upload a lot of data with a python sc...</td>\n",
       "      <td>Python Upload Steps</td>\n",
       "    </tr>\n",
       "    <tr>\n",
       "      <th>23</th>\n",
       "      <td>Are there examples of python scripts to upload...</td>\n",
       "      <td>Python Upload Steps</td>\n",
       "    </tr>\n",
       "    <tr>\n",
       "      <th>24</th>\n",
       "      <td>Can i setup a regular upload with a python scrip?</td>\n",
       "      <td>Python Upload Steps</td>\n",
       "    </tr>\n",
       "    <tr>\n",
       "      <th>25</th>\n",
       "      <td>How can I search for pending issues that have ...</td>\n",
       "      <td>Search for Issues</td>\n",
       "    </tr>\n",
       "    <tr>\n",
       "      <th>26</th>\n",
       "      <td>How can I seach for open issues?</td>\n",
       "      <td>Search for Issues</td>\n",
       "    </tr>\n",
       "    <tr>\n",
       "      <th>27</th>\n",
       "      <td>How can I find open issues?</td>\n",
       "      <td>Search for Issues</td>\n",
       "    </tr>\n",
       "    <tr>\n",
       "      <th>28</th>\n",
       "      <td>Where can i see a list of open and closed issues?</td>\n",
       "      <td>Search for Issues</td>\n",
       "    </tr>\n",
       "    <tr>\n",
       "      <th>29</th>\n",
       "      <td>Can I search by newest issues?</td>\n",
       "      <td>Search for Issues</td>\n",
       "    </tr>\n",
       "    <tr>\n",
       "      <th>30</th>\n",
       "      <td>Is there any way to query the metadata?</td>\n",
       "      <td>Query Metadata</td>\n",
       "    </tr>\n",
       "    <tr>\n",
       "      <th>31</th>\n",
       "      <td>How can I get the metatdata for a query?</td>\n",
       "      <td>Query Metadata</td>\n",
       "    </tr>\n",
       "    <tr>\n",
       "      <th>32</th>\n",
       "      <td>Is there metadata associated with a query?</td>\n",
       "      <td>Query Metadata</td>\n",
       "    </tr>\n",
       "    <tr>\n",
       "      <th>33</th>\n",
       "      <td>Where is the metadata stored?</td>\n",
       "      <td>Query Metadata</td>\n",
       "    </tr>\n",
       "    <tr>\n",
       "      <th>34</th>\n",
       "      <td>Can I search the metadata for a query?</td>\n",
       "      <td>Query Metadata</td>\n",
       "    </tr>\n",
       "    <tr>\n",
       "      <th>35</th>\n",
       "      <td>How do I update my account?</td>\n",
       "      <td>Update Account</td>\n",
       "    </tr>\n",
       "    <tr>\n",
       "      <th>36</th>\n",
       "      <td>Can I update my account?</td>\n",
       "      <td>Update Account</td>\n",
       "    </tr>\n",
       "    <tr>\n",
       "      <th>37</th>\n",
       "      <td>Why do I need to update my account?</td>\n",
       "      <td>Update Account</td>\n",
       "    </tr>\n",
       "    <tr>\n",
       "      <th>38</th>\n",
       "      <td>When do I need to update my account?</td>\n",
       "      <td>Update Account</td>\n",
       "    </tr>\n",
       "    <tr>\n",
       "      <th>39</th>\n",
       "      <td>Where can I find out how to update my account?</td>\n",
       "      <td>Update Account</td>\n",
       "    </tr>\n",
       "    <tr>\n",
       "      <th>40</th>\n",
       "      <td>How do you disable an account?</td>\n",
       "      <td>Account Delete</td>\n",
       "    </tr>\n",
       "    <tr>\n",
       "      <th>41</th>\n",
       "      <td>How do you delete an account?</td>\n",
       "      <td>Account Delete</td>\n",
       "    </tr>\n",
       "    <tr>\n",
       "      <th>42</th>\n",
       "      <td>Can I recover a deleted account?</td>\n",
       "      <td>Account Delete</td>\n",
       "    </tr>\n",
       "    <tr>\n",
       "      <th>43</th>\n",
       "      <td>Do I lose all my data when I delete my account?</td>\n",
       "      <td>Account Delete</td>\n",
       "    </tr>\n",
       "    <tr>\n",
       "      <th>44</th>\n",
       "      <td>Can I archive my account?</td>\n",
       "      <td>Account Delete</td>\n",
       "    </tr>\n",
       "    <tr>\n",
       "      <th>45</th>\n",
       "      <td>How do I use API from your website?</td>\n",
       "      <td>API Info</td>\n",
       "    </tr>\n",
       "    <tr>\n",
       "      <th>46</th>\n",
       "      <td>Is there an API available?</td>\n",
       "      <td>API Info</td>\n",
       "    </tr>\n",
       "    <tr>\n",
       "      <th>47</th>\n",
       "      <td>Can I use an API?</td>\n",
       "      <td>API Info</td>\n",
       "    </tr>\n",
       "    <tr>\n",
       "      <th>48</th>\n",
       "      <td>Where can I find info on your API?</td>\n",
       "      <td>API Info</td>\n",
       "    </tr>\n",
       "    <tr>\n",
       "      <th>49</th>\n",
       "      <td>How do I setup my account to use an API?</td>\n",
       "      <td>API Info</td>\n",
       "    </tr>\n",
       "  </tbody>\n",
       "</table>\n",
       "</div>"
      ],
      "text/plain": [
       "                                                query         answer_group\n",
       "0   I forgot my username and have no access to my ...     Missing Password\n",
       "1   I made an account on my phone but I forgot the...     Missing Password\n",
       "2            What are the steps for a password reset?     Missing Password\n",
       "3   How do I recover my password when I'm not rece...     Missing Password\n",
       "4   If the \"retrieve password\" process for my acco...     Missing Password\n",
       "5           Is there a way to insert multiple images?        Profile Image\n",
       "6                              How do I add an image?        Profile Image\n",
       "7                      Can I change my profile image?        Profile Image\n",
       "8                     Can I upload a image for users?        Profile Image\n",
       "9             Whats the max size for a profile image?        Profile Image\n",
       "10     How can I signup online without a credit card?    Credit Card Setup\n",
       "11                Can I signup without a credit card?    Credit Card Setup\n",
       "12          Do I need a credit card to start a trial?    Credit Card Setup\n",
       "13       Do I need a credit cart to setup an account?    Credit Card Setup\n",
       "14                        Do you have a free version?    Credit Card Setup\n",
       "15             What are some good photo editing apps?          Video Steps\n",
       "16         Which is best free video editing software?          Video Steps\n",
       "17                            How can I edits videos?          Video Steps\n",
       "18            Can I update my videos before uploading          Video Steps\n",
       "19  Are there online tools I can use to share my v...          Video Steps\n",
       "20  How can I upload Folders which contains daily ...  Python Upload Steps\n",
       "21            Can I upload data with a python script?  Python Upload Steps\n",
       "22  How do I upload a lot of data with a python sc...  Python Upload Steps\n",
       "23  Are there examples of python scripts to upload...  Python Upload Steps\n",
       "24  Can i setup a regular upload with a python scrip?  Python Upload Steps\n",
       "25  How can I search for pending issues that have ...    Search for Issues\n",
       "26                   How can I seach for open issues?    Search for Issues\n",
       "27                        How can I find open issues?    Search for Issues\n",
       "28  Where can i see a list of open and closed issues?    Search for Issues\n",
       "29                     Can I search by newest issues?    Search for Issues\n",
       "30            Is there any way to query the metadata?       Query Metadata\n",
       "31           How can I get the metatdata for a query?       Query Metadata\n",
       "32         Is there metadata associated with a query?       Query Metadata\n",
       "33                      Where is the metadata stored?       Query Metadata\n",
       "34             Can I search the metadata for a query?       Query Metadata\n",
       "35                        How do I update my account?       Update Account\n",
       "36                           Can I update my account?       Update Account\n",
       "37                Why do I need to update my account?       Update Account\n",
       "38               When do I need to update my account?       Update Account\n",
       "39     Where can I find out how to update my account?       Update Account\n",
       "40                     How do you disable an account?       Account Delete\n",
       "41                      How do you delete an account?       Account Delete\n",
       "42                   Can I recover a deleted account?       Account Delete\n",
       "43    Do I lose all my data when I delete my account?       Account Delete\n",
       "44                          Can I archive my account?       Account Delete\n",
       "45                How do I use API from your website?             API Info\n",
       "46                         Is there an API available?             API Info\n",
       "47                                  Can I use an API?             API Info\n",
       "48                 Where can I find info on your API?             API Info\n",
       "49           How do I setup my account to use an API?             API Info"
      ]
     },
     "execution_count": 61,
     "metadata": {},
     "output_type": "execute_result"
    }
   ],
   "source": [
    "def get_quora_qs():\n",
    "    quora_path = use_path + quora_file\n",
    "    quora_qs = pd.read_csv(quora_path)\n",
    "    return(quora_qs)\n",
    "get_quora_qs()"
   ]
  },
  {
   "cell_type": "markdown",
   "metadata": {},
   "source": [
    "### Get the cosine scores"
   ]
  },
  {
   "cell_type": "code",
   "execution_count": 6,
   "metadata": {},
   "outputs": [],
   "source": [
    "def get_scores(session, questions):\n",
    "    \"\"\"Returns the similarity scores\"\"\"\n",
    "    emba, embb, scores = session.run(\n",
    "        [sts_encode1, sts_encode2, sim_scores],\n",
    "        feed_dict={\n",
    "            sts_input1: questions['new_query'].tolist(),\n",
    "            sts_input2: questions['query'].tolist()\n",
    "        })\n",
    "    return (emba, embb, scores)"
   ]
  },
  {
   "cell_type": "markdown",
   "metadata": {},
   "source": [
    "### Show a chart of cosine scores"
   ]
  },
  {
   "cell_type": "code",
   "execution_count": 7,
   "metadata": {},
   "outputs": [],
   "source": [
    "def bar_scores(rec_df):\n",
    "    objects = list(range(1, len(rec_df['query'].tolist()) +1))\n",
    "    y_pos = np.arange(len(objects))\n",
    "    performance = rec_df.index.values.tolist()\n",
    "    plt.figure(figsize=(15,10))\n",
    "    plt.bar(y_pos, performance, align='center', alpha=0.5)\n",
    "    plt.xticks(y_pos, objects)\n",
    "    plt.ylabel(rec_df['new_query'].tolist()[0])\n",
    "    plt.title('Top 5 Recommendations')\n",
    "    loc = -0.1\n",
    "    for i,res in enumerate(rec_df['query'].tolist()):\n",
    "        plt.text(-0.7, loc, '{0}: {1}'.format(i+1, res), fontsize=15)\n",
    "        loc-=0.1\n",
    "    plt.show()"
   ]
  },
  {
   "cell_type": "markdown",
   "metadata": {},
   "source": [
    "### Visualize the embeddings\n",
    "We can use dimension reduction to represent the embeddings in a 2D scatter plot. This will enable us to see how close the sentence embeddings are physically. This is an alternative measure of similarity to the cosine similarity since it just measures similarity based on the embeddings only, i.e. not using any scoring method to compare them."
   ]
  },
  {
   "cell_type": "code",
   "execution_count": 8,
   "metadata": {},
   "outputs": [],
   "source": [
    "def pca_transform(recs):\n",
    "    # Convert the 512 dimensions into 2 so we can represent them in a graph\n",
    "    pca = PCA(2)  # project from 512 to 2 dimensions\n",
    "    queries = recs['query'].tolist()\n",
    "    queries.append(recs['new_query'].tolist()[0])\n",
    "    \n",
    "    embeds1 = recs['emba'].tolist()\n",
    "    embeds2 = recs['embb'].tolist()\n",
    "    embeds2.append(embeds1[0])\n",
    "    projected = pca.fit_transform(embeds2)\n",
    "    plt.figure(figsize=(15,10))\n",
    "    # Create a DF of groups of lablels\n",
    "    # Get the 2D embeds from each group of similar labels\n",
    "    x,y =zip(*projected.tolist())\n",
    "    plt.scatter(x,y)\n",
    "    # Set a limit so there is some room for the points\n",
    "    plt.xlim(-0.8, 0.8)\n",
    "    plt.ylim(-0.8, 0.8)\n",
    "    for (i, (x,y)) in enumerate(zip(x,y)):\n",
    "        plt.text(x,y,queries[i], ha='center')\n",
    "    plt.xlabel(recs['new_query'].tolist()[0])\n",
    "    plt.ylabel(recs['new_query'].tolist()[0])\n",
    "    plt.show()   "
   ]
  },
  {
   "cell_type": "markdown",
   "metadata": {},
   "source": [
    "### Enter you sentence and the number of recommentions you would like to see\n",
    "Add you test sentence here and then re-run the bottom two cells to see what is recommended"
   ]
  },
  {
   "cell_type": "code",
   "execution_count": 68,
   "metadata": {},
   "outputs": [],
   "source": [
    "# This represents the new incoming query\n",
    "new_query = \"Do I need a credit card for a free trial\"\n",
    "\n",
    "# Set the number of top recommendations you would like to see\n",
    "top_qs = 5"
   ]
  },
  {
   "cell_type": "markdown",
   "metadata": {},
   "source": [
    "### Show the top results"
   ]
  },
  {
   "cell_type": "code",
   "execution_count": 69,
   "metadata": {},
   "outputs": [
    {
     "name": "stdout",
     "output_type": "stream",
     "text": [
      "Result     Score      Group                Matching Query\n",
      "1          89.2       Credit Card Setup    Do I need a credit card to start a trial?\n",
      "2          83.2       Credit Card Setup    Can I signup without a credit card?\n",
      "3          82.7       Credit Card Setup    Do I need a credit cart to setup an account?\n",
      "4          78.3       Credit Card Setup    How can I signup online without a credit card?\n",
      "5          70.9       Update Account       Can I update my account?\n"
     ]
    }
   ],
   "source": [
    "with tf.Session() as session:\n",
    "    qs_df = get_quora_qs()\n",
    "    # Add new question column to DF\n",
    "    qs_df[\"new_query\"] = new_query \n",
    "    # Init the TF variables\n",
    "    session.run(tf.global_variables_initializer())\n",
    "    session.run(tf.tables_initializer())\n",
    "    # Get the similarity score\n",
    "    emba, embb, scores = get_scores(session, qs_df)\n",
    "    # Add the similarity scores to the DF\n",
    "    qs_df['sim_score'] =  scores\n",
    "    # Add the embeddings to the DF\n",
    "    qs_df['emba'] = np.array(emba).tolist()\n",
    "    qs_df['embb'] = np.array(embb).tolist()\n",
    "    # Now sort them so we can get the top five closest matches\n",
    "    sort_by_most_similar = qs_df.sort_values('sim_score', ascending=False)\n",
    "    print('{:<10} {:<10} {:<20} {}'.format('Result', 'Score', 'Group', 'Matching Query'))\n",
    "    for i, s in enumerate(sort_by_most_similar.round(4).head(n=top_qs).iterrows()):\n",
    "        print('{:<10} {:<10.1f} {:<20} {}'.format(i+1, s[1][3]*100, s[1][1], s[1][0]))"
   ]
  },
  {
   "cell_type": "markdown",
   "metadata": {},
   "source": [
    "### Show the charts and graphs"
   ]
  },
  {
   "cell_type": "code",
   "execution_count": 70,
   "metadata": {},
   "outputs": [
    {
     "data": {
      "image/png": "[encoded data removed]",
      "text/plain": [
       "<Figure size 1080x720 with 1 Axes>"
      ]
     },
     "metadata": {},
     "output_type": "display_data"
    },
    {
     "data": {
      "image/png": "[encoded data removed]",
      "text/plain": [
       "<Figure size 1080x720 with 1 Axes>"
      ]
     },
     "metadata": {},
     "output_type": "display_data"
    }
   ],
   "source": [
    "sort_by_most_similar = sort_by_most_similar.set_index('sim_score')\n",
    "(sort_by_most_similar.head(n=top_qs)[['new_query', 'query', \n",
    "                                      'answer_group']]).to_csv('recommend.csv', float_format='%.4f')\n",
    "pca_transform(sort_by_most_similar.head(n=top_qs))\n",
    "bar_scores(sort_by_most_similar.head(n=top_qs))"
   ]
  }
 ],
 "metadata": {
  "kernelspec": {
   "display_name": "Environment (conda_tensorflow_p36)",
   "language": "python",
   "name": "conda_tensorflow_p36"
  },
  "language_info": {
   "codemirror_mode": {
    "name": "ipython",
    "version": 3
   },
   "file_extension": ".py",
   "mimetype": "text/x-python",
   "name": "python",
   "nbconvert_exporter": "python",
   "pygments_lexer": "ipython3",
   "version": "3.6.3"
  }
 },
 "nbformat": 4,
 "nbformat_minor": 2
}
